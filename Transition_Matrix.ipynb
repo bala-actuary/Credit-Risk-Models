{
 "cells": [
  {
   "cell_type": "markdown",
   "metadata": {},
   "source": [
    "-----------\n",
    "Credit Risk Model - Transition Matrix Model\n",
    "----------"
   ]
  },
  {
   "cell_type": "code",
   "execution_count": 1,
   "metadata": {},
   "outputs": [],
   "source": [
    "import numpy as np\n",
    "import pandas as pd"
   ]
  },
  {
   "cell_type": "code",
   "execution_count": 2,
   "metadata": {},
   "outputs": [],
   "source": [
    "def credit_migration_model(transition_matrix, initial_rating, time_period):\n",
    "    \"\"\"\n",
    "    Calculates the probability of migrating to a different credit rating.\n",
    "    Args:\n",
    "        transition_matrix: a square matrix with probabilities of rating transition\n",
    "        initial_rating: the initial rating to calculate migration for\n",
    "        time_period: the time period being calculated.\n",
    "    Returns:\n",
    "        list of probabilities of being in each rating, in order of the matrix\n",
    "    \"\"\"\n",
    "    # Convert matrix to numpy\n",
    "    transition_matrix = np.array(transition_matrix)\n",
    "\n",
    "    # Move the matrix to the power of the time period\n",
    "    final_matrix = np.linalg.matrix_power(transition_matrix, time_period)\n",
    "\n",
    "    # return the probabilities for the initial rating\n",
    "    return list(final_matrix[initial_rating,:])"
   ]
  },
  {
   "cell_type": "code",
   "execution_count": 3,
   "metadata": {},
   "outputs": [],
   "source": [
    "# Example Usage (using a simplified 3x3 matrix)\n",
    "transition_matrix = [\n",
    "    [0.90, 0.08, 0.02],  # AAA\n",
    "    [0.02, 0.85, 0.13],  # AA\n",
    "    [0.01, 0.04, 0.95],  # A\n",
    "]"
   ]
  },
  {
   "cell_type": "code",
   "execution_count": 4,
   "metadata": {},
   "outputs": [
    {
     "name": "stdout",
     "output_type": "stream",
     "text": [
      "[[0.9, 0.08, 0.02], [0.02, 0.85, 0.13], [0.01, 0.04, 0.95]]\n"
     ]
    }
   ],
   "source": [
    "print(transition_matrix)"
   ]
  },
  {
   "cell_type": "code",
   "execution_count": 7,
   "metadata": {},
   "outputs": [
    {
     "name": "stdout",
     "output_type": "stream",
     "text": [
      "<class 'list'>\n"
     ]
    }
   ],
   "source": [
    "print(type(transition_matrix))"
   ]
  },
  {
   "cell_type": "code",
   "execution_count": 5,
   "metadata": {},
   "outputs": [],
   "source": [
    "initial_rating = 0 # (AAA)\n",
    "time_period = 5 # time period in years."
   ]
  },
  {
   "cell_type": "code",
   "execution_count": 6,
   "metadata": {},
   "outputs": [
    {
     "name": "stdout",
     "output_type": "stream",
     "text": [
      "Rating Probabilities after 5 years: [np.float64(0.604094515), np.float64(0.24515626000000001), np.float64(0.150749225)]\n"
     ]
    }
   ],
   "source": [
    "final_rating_probabilities = credit_migration_model(transition_matrix,initial_rating, time_period)\n",
    "print(f\"Rating Probabilities after {time_period} years: {final_rating_probabilities}\")"
   ]
  }
 ],
 "metadata": {
  "kernelspec": {
   "display_name": "LifeLib_Env",
   "language": "python",
   "name": "python3"
  },
  "language_info": {
   "codemirror_mode": {
    "name": "ipython",
    "version": 3
   },
   "file_extension": ".py",
   "mimetype": "text/x-python",
   "name": "python",
   "nbconvert_exporter": "python",
   "pygments_lexer": "ipython3",
   "version": "3.13.1"
  }
 },
 "nbformat": 4,
 "nbformat_minor": 2
}

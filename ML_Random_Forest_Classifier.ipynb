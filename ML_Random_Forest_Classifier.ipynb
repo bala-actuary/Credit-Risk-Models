{
 "cells": [
  {
   "cell_type": "markdown",
   "metadata": {},
   "source": [
    "-----------\n",
    "Machine Learning Model (Random Forest Classifier)\n",
    "----------"
   ]
  },
  {
   "cell_type": "code",
   "execution_count": 1,
   "metadata": {},
   "outputs": [],
   "source": [
    "import numpy as np\n",
    "import pandas as pd\n",
    "from sklearn.model_selection import train_test_split\n",
    "from sklearn.ensemble import RandomForestClassifier\n",
    "from sklearn.metrics import accuracy_score"
   ]
  },
  {
   "cell_type": "code",
   "execution_count": 2,
   "metadata": {},
   "outputs": [],
   "source": [
    "def machine_learning_credit_risk(features, labels, test_size=0.2):\n",
    "    \"\"\"\n",
    "    Trains a Random Forest Classifier to predict default.\n",
    "\n",
    "    Args:\n",
    "        features: input data\n",
    "        labels: outcomes of default (1=default, 0 = no default)\n",
    "        test_size: The size of data used to test the model.\n",
    "\n",
    "    Returns:\n",
    "        The accuracy of the model using the test data.\n",
    "    \"\"\"\n",
    "    # Split the data into training and testing sets\n",
    "    X_train, X_test, y_train, y_test = train_test_split(features, labels, test_size=test_size, random_state=42)\n",
    "    # Train a Random Forest classifier\n",
    "    model = RandomForestClassifier(n_estimators=100, random_state=42)\n",
    "    model.fit(X_train, y_train)\n",
    "    # Make predictions on the test set\n",
    "    y_pred = model.predict(X_test)\n",
    "    # Calculate the accuracy of the model\n",
    "    accuracy = accuracy_score(y_test, y_pred)\n",
    "\n",
    "    return accuracy, model # Also return model so that it can be used to predict values later"
   ]
  },
  {
   "cell_type": "code",
   "execution_count": 3,
   "metadata": {},
   "outputs": [],
   "source": [
    "# Example Usage (using dummy data)\n",
    "np.random.seed(42)\n",
    "n_obs = 100\n",
    "df = pd.DataFrame({\n",
    "    'credit_score': np.random.randint(300, 800, n_obs),\n",
    "    'debt_ratio': np.random.uniform(0, 1, n_obs),\n",
    "    'interest_rate': np.random.uniform(0.02, 0.1, n_obs),\n",
    "    'default_status': np.random.randint(0, 2, n_obs)\n",
    "})"
   ]
  },
  {
   "cell_type": "code",
   "execution_count": 10,
   "metadata": {},
   "outputs": [
    {
     "name": "stdout",
     "output_type": "stream",
     "text": [
      "    credit_score  debt_ratio  interest_rate  default_status\n",
      "0            402    0.894827       0.059156               1\n",
      "1            735    0.597900       0.098852               0\n",
      "2            648    0.921874       0.039364               1\n",
      "3            570    0.088493       0.073771               1\n",
      "4            406    0.195983       0.080930               0\n",
      "..           ...         ...            ...             ...\n",
      "95           701    0.051479       0.097090               1\n",
      "96           517    0.278646       0.088241               1\n",
      "97           343    0.908266       0.043556               1\n",
      "98           461    0.239562       0.050808               0\n",
      "99           501    0.144895       0.088091               0\n",
      "\n",
      "[100 rows x 4 columns]\n"
     ]
    }
   ],
   "source": [
    "print(df)"
   ]
  },
  {
   "cell_type": "code",
   "execution_count": 4,
   "metadata": {},
   "outputs": [],
   "source": [
    "features = df[['credit_score', 'debt_ratio', 'interest_rate']].values\n",
    "labels = df['default_status'].values"
   ]
  },
  {
   "cell_type": "code",
   "execution_count": 5,
   "metadata": {},
   "outputs": [
    {
     "name": "stdout",
     "output_type": "stream",
     "text": [
      "[[4.02000000e+02 8.94827350e-01 5.91562208e-02]\n",
      " [7.35000000e+02 5.97899979e-01 9.88520363e-02]\n",
      " [6.48000000e+02 9.21874235e-01 3.93644217e-02]\n",
      " [5.70000000e+02 8.84925021e-02 7.37708438e-02]\n",
      " [4.06000000e+02 1.95982862e-01 8.09295692e-02]\n",
      " [3.71000000e+02 4.52272889e-02 3.90110035e-02]\n",
      " [4.88000000e+02 3.25330331e-01 7.82573079e-02]\n",
      " [3.20000000e+02 3.88677290e-01 4.94226506e-02]\n",
      " [4.02000000e+02 2.71349032e-01 7.05844664e-02]\n",
      " [4.21000000e+02 8.28737509e-01 7.06823769e-02]\n",
      " [7.66000000e+02 3.56753327e-01 6.28619747e-02]\n",
      " [5.14000000e+02 2.80934510e-01 2.72231816e-02]\n",
      " [6.30000000e+02 5.42696083e-01 8.68241996e-02]\n",
      " [7.58000000e+02 1.40924225e-01 4.56624052e-02]\n",
      " [3.87000000e+02 8.02196981e-01 3.49214808e-02]\n",
      " [6.72000000e+02 7.45506437e-02 2.32620113e-02]\n",
      " [3.99000000e+02 9.86886937e-01 6.72714355e-02]\n",
      " [6.59000000e+02 7.72244769e-01 7.42051489e-02]\n",
      " [4.51000000e+02 1.98715682e-01 2.13270263e-02]\n",
      " [4.30000000e+02 5.52211712e-03 6.09674447e-02]\n",
      " [4.49000000e+02 8.15461428e-01 3.81196620e-02]\n",
      " [6.08000000e+02 7.06857344e-01 7.16138232e-02]\n",
      " [5.57000000e+02 7.29007168e-01 3.39493143e-02]\n",
      " [6.43000000e+02 7.71270347e-01 7.52750190e-02]\n",
      " [7.91000000e+02 7.40446517e-02 5.09388277e-02]\n",
      " [7.13000000e+02 3.58465729e-01 9.49383991e-02]\n",
      " [5.93000000e+02 1.15869060e-01 3.10016755e-02]\n",
      " [6.85000000e+02 8.63103426e-01 4.72853081e-02]\n",
      " [4.91000000e+02 6.23298127e-01 2.90778817e-02]\n",
      " [7.43000000e+02 3.30898025e-01 9.39754895e-02]\n",
      " [5.76000000e+02 6.35583503e-02 9.01871483e-02]\n",
      " [4.60000000e+02 3.10982322e-01 4.06353302e-02]\n",
      " [7.59000000e+02 3.25183322e-01 7.27987237e-02]\n",
      " [6.13000000e+02 7.29606178e-01 8.53777760e-02]\n",
      " [3.21000000e+02 6.37557471e-01 6.44160649e-02]\n",
      " [5.52000000e+02 8.87212743e-01 6.23720463e-02]\n",
      " [5.35000000e+02 4.72214925e-01 3.93481833e-02]\n",
      " [6.44000000e+02 1.19594246e-01 2.74482214e-02]\n",
      " [3.48000000e+02 7.13244787e-01 9.17772606e-02]\n",
      " [7.74000000e+02 7.60785049e-01 9.20334446e-02]\n",
      " [3.58000000e+02 5.61277198e-01 7.06481166e-02]\n",
      " [4.69000000e+02 7.70967180e-01 4.71223833e-02]\n",
      " [7.75000000e+02 4.93795596e-01 4.79367660e-02]\n",
      " [4.87000000e+02 5.22732829e-01 7.80764543e-02]\n",
      " [7.63000000e+02 4.27541018e-01 9.17688208e-02]\n",
      " [5.70000000e+02 2.54191267e-02 9.09669139e-02]\n",
      " [4.89000000e+02 1.07891427e-01 8.23900437e-02]\n",
      " [7.45000000e+02 3.14291857e-02 7.13625317e-02]\n",
      " [4.74000000e+02 6.36410411e-01 2.67311972e-02]\n",
      " [7.45000000e+02 3.14355981e-01 3.29302971e-02]\n",
      " [3.50000000e+02 5.08570691e-01 9.18843351e-02]\n",
      " [6.63000000e+02 9.07566474e-01 6.85143248e-02]\n",
      " [3.54000000e+02 2.49292229e-01 2.07357641e-02]\n",
      " [5.43000000e+02 4.10382923e-01 2.81177234e-02]\n",
      " [6.19000000e+02 7.55551139e-01 7.30801415e-02]\n",
      " [4.30000000e+02 2.28798165e-01 2.04049267e-02]\n",
      " [7.84000000e+02 7.69799098e-02 3.28646441e-02]\n",
      " [6.06000000e+02 2.89751453e-01 6.38987031e-02]\n",
      " [4.34000000e+02 1.61221287e-01 7.53516158e-02]\n",
      " [3.20000000e+02 9.29697652e-01 7.21569008e-02]\n",
      " [6.28000000e+02 8.08120380e-01 3.79415448e-02]\n",
      " [4.66000000e+02 6.33403757e-01 7.69743377e-02]\n",
      " [5.73000000e+02 8.71460590e-01 3.89799270e-02]\n",
      " [6.87000000e+02 8.03672077e-01 4.60319759e-02]\n",
      " [3.88000000e+02 1.86570059e-01 7.97193124e-02]\n",
      " [6.15000000e+02 8.92558998e-01 7.19706319e-02]\n",
      " [3.13000000e+02 5.39342242e-01 8.79378728e-02]\n",
      " [5.41000000e+02 8.07440155e-01 7.26090314e-02]\n",
      " [5.64000000e+02 8.96091300e-01 6.54646883e-02]\n",
      " [6.45000000e+02 3.18003475e-01 2.74939814e-02]\n",
      " [3.52000000e+02 1.10051925e-01 4.94172642e-02]\n",
      " [6.85000000e+02 2.27935163e-01 4.12161894e-02]\n",
      " [6.39000000e+02 4.27107789e-01 3.95191715e-02]\n",
      " [3.91000000e+02 8.18014766e-01 9.78408444e-02]\n",
      " [6.66000000e+02 8.60730583e-01 5.14478180e-02]\n",
      " [7.43000000e+02 6.95213053e-03 9.13637244e-02]\n",
      " [7.54000000e+02 5.10747303e-01 7.04910901e-02]\n",
      " [7.27000000e+02 4.17411003e-01 8.35849043e-02]\n",
      " [5.63000000e+02 2.22107810e-01 6.02109674e-02]\n",
      " [7.30000000e+02 1.19865367e-01 6.61523108e-02]\n",
      " [3.34000000e+02 3.37615171e-01 5.94014155e-02]\n",
      " [5.05000000e+02 9.42909704e-01 3.56194390e-02]\n",
      " [3.80000000e+02 3.23202932e-01 7.77961692e-02]\n",
      " [7.19000000e+02 5.18790622e-01 4.24617890e-02]\n",
      " [3.49000000e+02 7.03018959e-01 2.19452773e-02]\n",
      " [6.59000000e+02 3.63629602e-01 7.16377837e-02]\n",
      " [6.87000000e+02 9.71782083e-01 3.41688544e-02]\n",
      " [3.01000000e+02 9.62447295e-01 9.52366867e-02]\n",
      " [6.89000000e+02 2.51782296e-01 9.63142862e-02]\n",
      " [3.53000000e+02 4.97248506e-01 9.31891512e-02]\n",
      " [4.05000000e+02 3.00878310e-01 4.96126960e-02]\n",
      " [5.59000000e+02 2.84840494e-01 2.12365293e-02]\n",
      " [6.09000000e+02 3.68869474e-02 9.42654850e-02]\n",
      " [7.76000000e+02 6.09564334e-01 5.42547319e-02]\n",
      " [4.90000000e+02 5.02679023e-01 9.73323855e-02]\n",
      " [7.01000000e+02 5.14787512e-02 9.70895982e-02]\n",
      " [5.17000000e+02 2.78646464e-01 8.82407564e-02]\n",
      " [3.43000000e+02 9.08265886e-01 4.35559114e-02]\n",
      " [4.61000000e+02 2.39561891e-01 5.08078183e-02]\n",
      " [5.01000000e+02 1.44894872e-01 8.80909337e-02]]\n"
     ]
    }
   ],
   "source": [
    "print(features)"
   ]
  },
  {
   "cell_type": "code",
   "execution_count": 6,
   "metadata": {},
   "outputs": [
    {
     "name": "stdout",
     "output_type": "stream",
     "text": [
      "[1 0 1 1 0 1 0 1 1 0 1 1 1 1 1 0 1 0 1 0 0 1 1 1 0 1 0 0 0 1 1 0 0 1 0 1 0\n",
      " 1 0 1 0 1 1 0 0 1 0 1 0 1 1 1 1 1 1 0 0 0 1 1 1 1 0 0 1 0 0 1 0 1 0 1 1 1\n",
      " 1 0 1 1 1 0 1 0 1 0 0 1 0 1 1 1 0 0 1 1 0 1 1 1 0 0]\n"
     ]
    }
   ],
   "source": [
    "print(labels)"
   ]
  },
  {
   "cell_type": "code",
   "execution_count": 7,
   "metadata": {},
   "outputs": [
    {
     "name": "stdout",
     "output_type": "stream",
     "text": [
      "Machine Learning Model Accuracy: 0.6500\n"
     ]
    }
   ],
   "source": [
    "# Run machine learning model\n",
    "accuracy, model = machine_learning_credit_risk(features, labels)\n",
    "print(f\"Machine Learning Model Accuracy: {accuracy:.4f}\")"
   ]
  },
  {
   "cell_type": "code",
   "execution_count": 8,
   "metadata": {},
   "outputs": [
    {
     "name": "stdout",
     "output_type": "stream",
     "text": [
      "Machine Learning Model Predicted Defaults: [1 0]\n"
     ]
    }
   ],
   "source": [
    "# Predicting new observations:\n",
    "new_obs = np.array([[650, 0.3, 0.05], [400, 0.7, 0.09]])\n",
    "predicted_defaults = model.predict(new_obs)\n",
    "print(f\"Machine Learning Model Predicted Defaults: {predicted_defaults}\")"
   ]
  }
 ],
 "metadata": {
  "kernelspec": {
   "display_name": "myproject",
   "language": "python",
   "name": "python3"
  },
  "language_info": {
   "codemirror_mode": {
    "name": "ipython",
    "version": 3
   },
   "file_extension": ".py",
   "mimetype": "text/x-python",
   "name": "python",
   "nbconvert_exporter": "python",
   "pygments_lexer": "ipython3",
   "version": "3.10.13"
  }
 },
 "nbformat": 4,
 "nbformat_minor": 2
}

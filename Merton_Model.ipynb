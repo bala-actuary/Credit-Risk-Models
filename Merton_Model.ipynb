{
 "cells": [
  {
   "cell_type": "markdown",
   "id": "73dd3b03",
   "metadata": {},
   "source": [
    "# Structral Credit Risk Model - Merton Model"
   ]
  },
  {
   "cell_type": "code",
   "execution_count": 1,
   "id": "457758fb",
   "metadata": {},
   "outputs": [],
   "source": [
    "import numpy as np\n",
    "from scipy.stats import norm\n",
    "\n",
    "def merton_model(asset_value: float, asset_volatility: float, liabilities: float, \n",
    "                 time_horizon: float, risk_free_rate: float) -> float:\n",
    "    \"\"\"\n",
    "        Calculates the probability of default using the Merton model.\n",
    "\n",
    "        Args:\n",
    "        asset_value (float): Current value of the firm's assets.\n",
    "        asset_volatility (float): Volatility of the firm's assets.\n",
    "        liabilities (float): The firm's debt obligations.\n",
    "        time_horizon (float): Time until the liabilities are due (in years).\n",
    "        risk_free_rate (float): Risk-free rate of return.\n",
    "\n",
    "        Returns:\n",
    "        float: Probability of default.\n",
    "\n",
    "        Example:\n",
    "        >>> merton_model(1000000, 0.3, 800000, 1, 0.05)\n",
    "        0.12566134685507416\n",
    "    \"\"\"\n",
    "\n",
    "    try:\n",
    "        if asset_value <= 0 or liabilities <= 0 or asset_volatility <= 0 or time_horizon <= 0:\n",
    "            raise ValueError(\"Asset value, liabilities, asset volatility, and time horizon must be positive numbers.\")\n",
    "        d1 = (np.log(asset_value / liabilities) + (risk_free_rate + 0.5 * asset_volatility ** 2) * time_horizon) / (asset_volatility * np.sqrt(time_horizon))\n",
    "        d2 = d1 - asset_volatility * np.sqrt(time_horizon)\n",
    "        probability_of_default = norm.cdf(-d2)\n",
    "    except Exception as e:\n",
    "        raise ValueError(f\"An error occurred: {e}\")\n",
    "\n",
    "    return probability_of_default"
   ]
  },
  {
   "cell_type": "code",
   "execution_count": 2,
   "id": "16230326",
   "metadata": {},
   "outputs": [
    {
     "name": "stdout",
     "output_type": "stream",
     "text": [
      "Merton Model Probability of Default: 0.223484\n"
     ]
    }
   ],
   "source": [
    "# Example usage\n",
    "asset_value = 1000000\n",
    "asset_volatility = 0.3\n",
    "liabilities = 800000\n",
    "time_horizon = 1\n",
    "risk_free_rate = 0.05\n",
    "\n",
    "probability_of_default = merton_model(asset_value, asset_volatility, liabilities, time_horizon, risk_free_rate)\n",
    "print(f\"Merton Model Probability of Default: {probability_of_default:.6f}\")"
   ]
  }
 ],
 "metadata": {
  "kernelspec": {
   "display_name": "myproject",
   "language": "python",
   "name": "python3"
  },
  "language_info": {
   "codemirror_mode": {
    "name": "ipython",
    "version": 3
   },
   "file_extension": ".py",
   "mimetype": "text/x-python",
   "name": "python",
   "nbconvert_exporter": "python",
   "pygments_lexer": "ipython3",
   "version": "3.10.13"
  }
 },
 "nbformat": 4,
 "nbformat_minor": 5
}
